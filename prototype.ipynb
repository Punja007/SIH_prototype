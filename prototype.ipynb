{
 "cells": [
  {
   "cell_type": "code",
   "execution_count": null,
   "id": "c1bcb4a4",
   "metadata": {},
   "outputs": [],
   "source": [
    "from langchain_text_splitters import RecursiveCharacterTextSplitter\n",
    "from langchain_community.document_loaders import TextLoader\n",
    "from langchain_community.vectorstores import Chroma\n",
    "from langchain_groq import ChatGroq\n",
    "from langchain.embeddings import HuggingFaceEmbeddings\n",
    "from langchain_core.prompts import MessagesPlaceholder, ChatPromptTemplate\n",
    "from langchain.prompts import PromptTemplate\n",
    "from langchain_core.chat_history import BaseChatMessageHistory\n",
    "from langchain.chains.combine_documents import create_stuff_documents_chain\n",
    "from langchain.chains import ConversationalRetrievalChain, LLMChain\n",
    "from langchain.chains.history_aware_retriever import create_history_aware_retriever\n",
    "from langchain_community.chat_message_histories import ChatMessageHistory\n",
    "from langchain_core.runnables.history import RunnableWithMessageHistory\n",
    "from langchain.memory import ConversationBufferMemory\n",
    "from dotenv import load_dotenv\n",
    "import os"
   ]
  },
  {
   "cell_type": "code",
   "execution_count": 175,
   "id": "c5e7c2a8",
   "metadata": {},
   "outputs": [],
   "source": [
    "load_dotenv()\n",
    "os.environ['HF_TOKEN'] = os.getenv('HF_TOKEN')\n",
    "groq_api = os.getenv('GROQ_API_KEY')\n"
   ]
  },
  {
   "cell_type": "code",
   "execution_count": null,
   "id": "ee6c3729",
   "metadata": {},
   "outputs": [],
   "source": [
    "llm = ChatGroq(model = \"llama-3.3-70b-versatile\",\n",
    "               groq_api_key=os.getenv('GROQ_API_KEY'))\n"
   ]
  },
  {
   "cell_type": "code",
   "execution_count": 177,
   "id": "9d595b43",
   "metadata": {},
   "outputs": [],
   "source": [
    "## doc preprocessing\n",
    "\n",
    "txt = TextLoader('FAQ.txt').load()\n",
    "splitter = RecursiveCharacterTextSplitter(chunk_size=1000, chunk_overlap=200)\n",
    "chunks = splitter.split_documents(txt)\n",
    "embedding= HuggingFaceEmbeddings(model_name='all-MiniLM-L6-v2')\n",
    "vector_store = Chroma.from_documents(documents=chunks, embedding=embedding)"
   ]
  },
  {
   "cell_type": "code",
   "execution_count": 178,
   "id": "a81d73e9",
   "metadata": {},
   "outputs": [],
   "source": [
    "q_prompt_template = ChatPromptTemplate.from_messages([\n",
    "    (\"system\", \n",
    "     \"Given the chat history and the user's latest question, \"\n",
    "     \"rephrase the latest question as a standalone question that can be answered independently.\"),\n",
    "    (\"user\", \n",
    "     \"Chat history:\\n{chat_history}\\n\\nUser question:\\n{question}\")\n",
    "])\n",
    "\n",
    "qa_prompt_template = ChatPromptTemplate.from_messages([\n",
    "    (\"system\", \n",
    "     \"You are an institute FAQ bot. Answer the question based on the context below. \"\n",
    "     \"You can give the additional information if required but make sure it is related with the asked question. \"\n",
    "     \"If answer is not present in context, say 'I don't know, would you like me to connect you to a human?'\"),\n",
    "    (\"user\", \n",
    "     \"Context:\\n{context}\\n\\nQuestion:\\n{question}\")\n",
    "])\n",
    "\n",
    "memory = ConversationBufferMemory(memory_key=\"chat_history\", return_messages=True, output_key=\"answer\")\n",
    "\n",
    "# 2️⃣ Basic retriever\n",
    "retriever = vector_store.as_retriever(search_kwargs={\"k\": 3})\n",
    "\n",
    "# 3️⃣ Conversational Retrieval Chain with query rewriting\n",
    "qa_chain = ConversationalRetrievalChain.from_llm(\n",
    "    llm=llm,\n",
    "    retriever=retriever,\n",
    "    memory=memory,\n",
    "    return_source_documents=True,\n",
    "    condense_question_prompt=q_prompt_template,  # <--- here you pass your query-rewriting prompt\n",
    "    combine_docs_chain_kwargs={\"prompt\": qa_prompt_template}  # answer generation\n",
    ")"
   ]
  },
  {
   "cell_type": "code",
   "execution_count": 179,
   "id": "3e3f9894",
   "metadata": {},
   "outputs": [
    {
     "name": "stdout",
     "output_type": "stream",
     "text": [
      "Answer: The required documents for admission are scanned copies of your:\n",
      "\n",
      "1. 10th Grade Marksheet and Certificate\n",
      "2. 12th Grade Marksheet and Certificate\n",
      "\n",
      "You can obtain these documents from your previous schools or educational institutions where you completed your 10th and 12th grades. Typically, you can get them by contacting the school administration or visiting the institution in person. They will provide you with the marksheet and certificate, which you can then scan and upload during the application process. \n",
      "\n",
      "To apply, you need to submit these documents online through the institute's official admissions portal. You will need to register, fill out the application form, upload the required documents, and pay the application fee.\n"
     ]
    }
   ],
   "source": [
    "result = qa_chain.invoke({\"question\": \"What documents are required for admission and how do i get it?\"})\n",
    "print(\"Answer:\", result[\"answer\"])\n"
   ]
  },
  {
   "cell_type": "code",
   "execution_count": 180,
   "id": "31e2e3a4",
   "metadata": {},
   "outputs": [],
   "source": [
    "result = qa_chain.invoke({'question': 'wont i need adharcard for it?'})"
   ]
  },
  {
   "cell_type": "code",
   "execution_count": 181,
   "id": "8247ced5",
   "metadata": {},
   "outputs": [
    {
     "name": "stdout",
     "output_type": "stream",
     "text": [
      "You will need a Government-issued Photo ID, and an Aadhaar Card is an example of an acceptable document. You can also use a Passport as an alternative.\n"
     ]
    }
   ],
   "source": [
    "print(result['answer'])"
   ]
  },
  {
   "cell_type": "code",
   "execution_count": 182,
   "id": "90a0c708",
   "metadata": {},
   "outputs": [
    {
     "name": "stdout",
     "output_type": "stream",
     "text": [
      "I don't know, would you like me to connect you to a human?\n"
     ]
    }
   ],
   "source": [
    "result = qa_chain.invoke({'question': 'why didnt you mention aadharcard and photos and all in the first question?'})\n",
    "print(result['answer'])"
   ]
  }
 ],
 "metadata": {
  "kernelspec": {
   "display_name": "sih",
   "language": "python",
   "name": "python3"
  },
  "language_info": {
   "codemirror_mode": {
    "name": "ipython",
    "version": 3
   },
   "file_extension": ".py",
   "mimetype": "text/x-python",
   "name": "python",
   "nbconvert_exporter": "python",
   "pygments_lexer": "ipython3",
   "version": "3.11.13"
  }
 },
 "nbformat": 4,
 "nbformat_minor": 5
}
